{
 "cells": [
  {
   "cell_type": "markdown",
   "metadata": {},
   "source": [
    "# Basic Python3\n",
    "# Copyright: Jagadeesh Vasudevamurthy\n",
    "# filename: basic.ipynb"
   ]
  },
  {
   "cell_type": "markdown",
   "metadata": {},
   "source": [
    "# Basic imports"
   ]
  },
  {
   "cell_type": "code",
   "execution_count": 2,
   "metadata": {},
   "outputs": [
    {
     "name": "stdout",
     "output_type": "stream",
     "text": [
      "3.7.7 (default, May  6 2020, 11:45:54) [MSC v.1916 64 bit (AMD64)]\n"
     ]
    }
   ],
   "source": [
    "import sys\n",
    "import os\n",
    "print(sys.version)"
   ]
  },
  {
   "cell_type": "markdown",
   "metadata": {},
   "source": [
    "# Printing"
   ]
  },
  {
   "cell_type": "code",
   "execution_count": null,
   "metadata": {},
   "outputs": [],
   "source": [
    "print('Hello World using single quote')"
   ]
  },
  {
   "cell_type": "code",
   "execution_count": null,
   "metadata": {},
   "outputs": [],
   "source": [
    "print(\"Hello World using double quote\")"
   ]
  },
  {
   "cell_type": "code",
   "execution_count": null,
   "metadata": {},
   "outputs": [],
   "source": [
    "print('''Hello World using triple quote''')"
   ]
  },
  {
   "cell_type": "code",
   "execution_count": null,
   "metadata": {},
   "outputs": [],
   "source": [
    "print('\"Hello World within double quote using single quote\"')"
   ]
  },
  {
   "cell_type": "code",
   "execution_count": null,
   "metadata": {},
   "outputs": [],
   "source": [
    "print('''\"Hello World within double quote using triple quote\"''')"
   ]
  },
  {
   "cell_type": "code",
   "execution_count": null,
   "metadata": {},
   "outputs": [],
   "source": [
    "print(3 + -5)"
   ]
  },
  {
   "cell_type": "code",
   "execution_count": null,
   "metadata": {},
   "outputs": [],
   "source": [
    "x = 5\n",
    "y = 8\n",
    "print(x,y)\n",
    "print(\"Python gives a space after x and EOLN after y\")\n",
    "print(\"x =\", x, \"y =\", y)\n",
    "print(\"Python default separator (sep =)  is a space\")\n",
    "print(\"Python default eoln (end =)  is a EOLN\")"
   ]
  },
  {
   "cell_type": "code",
   "execution_count": null,
   "metadata": {},
   "outputs": [],
   "source": [
    "x = 5\n",
    "y = 8\n",
    "print(\"User can change both sep= and end =\")\n",
    "print('''I am changing sep = space by sep =\" -> \" ''')\n",
    "print('''I am changing end = EOLN by end =\" ] \" ''')\n",
    "print(\"x\", x, sep = '->', end =']')\n",
    "print(\"realend\")"
   ]
  },
  {
   "cell_type": "code",
   "execution_count": null,
   "metadata": {},
   "outputs": [],
   "source": [
    "print(\"To show how to print without and with line feed\")\n",
    "x = 5\n",
    "y = 8\n",
    "print(x,y,end=\"\")\n",
    "x = 5\n",
    "y = 8\n",
    "print(x,y)"
   ]
  },
  {
   "cell_type": "code",
   "execution_count": null,
   "metadata": {},
   "outputs": [],
   "source": [
    "x = \"UC\"\n",
    "y = \"Santa Clara\"\n",
    "print(\"I am studying at\", x, \".Campus is at\",y)\n",
    "print(\"-----FIX ---\")\n",
    "print(\"I am studying at\", x,end=\". \")\n",
    "print(\"Campus is at\", y)"
   ]
  },
  {
   "cell_type": "markdown",
   "metadata": {},
   "source": [
    "# Basic Data types: int, float, bool, string"
   ]
  },
  {
   "cell_type": "markdown",
   "metadata": {},
   "source": [
    "### Concept of name (LHS), value (RHS) \n",
    "### types(Infered by python)\n",
    "### Type of name (LHS) need not have to announced. \n",
    "### All names on RHS must be available. Constants are already available(5, 3.14)\n",
    "### Python will infer type of the name automatically\n",
    "### As a result, the variables has no fixed type like C or Java"
   ]
  },
  {
   "cell_type": "code",
   "execution_count": null,
   "metadata": {},
   "outputs": [],
   "source": [
    "k = 200\n",
    "print(\"type of k\", type(k), \"Value of k =\", k,\"id = \", id(k))"
   ]
  },
  {
   "cell_type": "code",
   "execution_count": null,
   "metadata": {},
   "outputs": [],
   "source": [
    "print(\"In C or java you can say int junk; What is the value of junk?\")\n",
    "print(\"Python will not allow this.\")\n",
    "#junk  \n",
    "print(\"you cannot declare name without assignment like int junk in C\")"
   ]
  },
  {
   "cell_type": "code",
   "execution_count": null,
   "metadata": {},
   "outputs": [],
   "source": [
    "k = 200\n",
    "print(\"type of k\", type(k), \"Value of k =\", k,\"id = \", id(k))\n",
    "print(\"note 1  below is constant and available\")\n",
    "k = k + 1 #++k\n",
    "print(\"type of k\", type(k), \"Value of k =\", k,\"id = \", id(k))"
   ]
  },
  {
   "cell_type": "code",
   "execution_count": null,
   "metadata": {},
   "outputs": [],
   "source": [
    "k = 78.90\n",
    "print(\"type of k\", type(k), \"Value of k =\", k, \"id = \", id(k))\n",
    "k = 2\n",
    "print(\"type of k\", type(k), \"Value of k =\", k, \"id = \", id(k))"
   ]
  },
  {
   "cell_type": "code",
   "execution_count": null,
   "metadata": {},
   "outputs": [],
   "source": [
    "k = 678906789.878\n",
    "print(\"type of k\", type(k), \"Value of k =\", k,\"id = \", id(k))"
   ]
  },
  {
   "cell_type": "code",
   "execution_count": null,
   "metadata": {},
   "outputs": [],
   "source": [
    "k = 1235657786899879757575175157511571575517157111715777777777777777777777777777777777777\n",
    "print(\"type of k\", type(k), \"Value of k =\", k,\"id = \", id(k))"
   ]
  },
  {
   "cell_type": "code",
   "execution_count": null,
   "metadata": {},
   "outputs": [],
   "source": [
    "k = True\n",
    "print(\"type of k\", type(k), \"Value of k =\", k,\"id = \", id(k))"
   ]
  },
  {
   "cell_type": "code",
   "execution_count": null,
   "metadata": {},
   "outputs": [],
   "source": [
    "k = False\n",
    "print(\"type of k\", type(k), \"Value of k =\", k,\"id = \", id(k))"
   ]
  },
  {
   "cell_type": "code",
   "execution_count": null,
   "metadata": {},
   "outputs": [],
   "source": [
    "k = 'a'\n",
    "print(\"type of k\", type(k), \"Value of k =\", k,\"id = \", id(k))"
   ]
  },
  {
   "cell_type": "code",
   "execution_count": null,
   "metadata": {},
   "outputs": [],
   "source": [
    "k = \"a\"\n",
    "print(\"type of k\", type(k), \"Value of k =\", k,\"id = \", id(k))"
   ]
  },
  {
   "cell_type": "code",
   "execution_count": null,
   "metadata": {},
   "outputs": [],
   "source": [
    "k = '''a'''\n",
    "print(\"type of k\", type(k), \"Value of k =\", k,\"id = \", id(k))"
   ]
  },
  {
   "cell_type": "code",
   "execution_count": null,
   "metadata": {},
   "outputs": [],
   "source": [
    "k = \"pack my box with five dozen Liquor jugs\"\n",
    "print(\"type of k\", type(k), \"Value of k =\", k,\"id = \", id(k))"
   ]
  },
  {
   "cell_type": "markdown",
   "metadata": {},
   "source": [
    "# bool"
   ]
  },
  {
   "cell_type": "code",
   "execution_count": null,
   "metadata": {},
   "outputs": [],
   "source": [
    "k = True\n",
    "print(\"type of k\", type(k), \"Value of k =\", k)"
   ]
  },
  {
   "cell_type": "code",
   "execution_count": null,
   "metadata": {},
   "outputs": [],
   "source": [
    "k = False\n",
    "print(\"type of k\", type(k), \"Value of k =\", k)"
   ]
  },
  {
   "cell_type": "code",
   "execution_count": null,
   "metadata": {},
   "outputs": [],
   "source": [
    "print(\"To show how to build AND\")\n",
    "k = True\n",
    "print(\"type of k\", type(k), \"Value of k =\", k)\n",
    "j = False\n",
    "print(\"type of j\", type(j), \"Value of j =\", j)\n",
    "m = k and j \n",
    "print(\"type of m\", type(m), \"Value of m =\", m)"
   ]
  },
  {
   "cell_type": "code",
   "execution_count": null,
   "metadata": {},
   "outputs": [],
   "source": [
    "print(\"To show how to build OR\")\n",
    "k = True\n",
    "print(\"type of k\", type(k), \"Value of k =\", k)\n",
    "j = False\n",
    "print(\"type of j\", type(j), \"Value of j =\", j)\n",
    "m = k or j \n",
    "print(\"type of m\", type(m), \"Value of m =\", m)"
   ]
  },
  {
   "cell_type": "code",
   "execution_count": null,
   "metadata": {},
   "outputs": [],
   "source": [
    "print(\"To show how to build XOR\")\n",
    "k = True\n",
    "print(\"type of k\", type(k), \"Value of k =\", k)\n",
    "j = False\n",
    "print(\"type of j\", type(j), \"Value of j =\", j)\n",
    "m = (k and (not j)) or (not(k) and j) #XOR\n",
    "print(\"type of m\", type(m), \"Value of m =\", m)"
   ]
  },
  {
   "cell_type": "code",
   "execution_count": null,
   "metadata": {},
   "outputs": [],
   "source": [
    "print(\"AND truth table\")\n",
    "for k in [False,True]:\n",
    "    for j in [False,True]:\n",
    "        m = (k and j)\n",
    "        print(k,id(k),j,id(j),m,id(m))    "
   ]
  },
  {
   "cell_type": "code",
   "execution_count": null,
   "metadata": {},
   "outputs": [],
   "source": [
    "print(\"OR truth table\")\n",
    "for k in [False,True]:\n",
    "    for j in [False,True]:\n",
    "        m = (k or j)\n",
    "        print(k,j,m)  "
   ]
  },
  {
   "cell_type": "code",
   "execution_count": null,
   "metadata": {},
   "outputs": [],
   "source": [
    "print(\"XOR truth table\")\n",
    "for k in [False,True]:\n",
    "    for j in [False,True]:\n",
    "        m = (k and (not j)) or (not(k) and j) #XOR\n",
    "        print(k,j,m) "
   ]
  },
  {
   "cell_type": "code",
   "execution_count": null,
   "metadata": {},
   "outputs": [],
   "source": [
    "print(\"XNOR truth table\")\n",
    "for k in [False,True]:\n",
    "    for j in [False,True]:\n",
    "        m = not((k and (not j)) or (not(k) and j)) #XNOR\n",
    "        print(k,j,m) "
   ]
  },
  {
   "cell_type": "markdown",
   "metadata": {},
   "source": [
    "# Immutable VS Mutable basic types"
   ]
  },
  {
   "cell_type": "code",
   "execution_count": null,
   "metadata": {},
   "outputs": [],
   "source": [
    "x = 10 \n",
    "y = x #y is pointing to x\n",
    "print(\"BEFORE: x = \",x, \" y = \",y, type(x), type(y), id(x), id(y))\n",
    "print(\"AT THIS TIME x and y are not separate objects\")\n",
    "x = 5 #x will be changed to 5\n",
    "print(\"AFTER changing x = 5: x = \",x, \" y = \",y, type(x), type(y),id(x), id(y))\n",
    "print(\"Now x and y are separate objects\")"
   ]
  },
  {
   "cell_type": "markdown",
   "metadata": {},
   "source": [
    "# This is because int is NOT 4 bytes like C"
   ]
  },
  {
   "cell_type": "code",
   "execution_count": null,
   "metadata": {},
   "outputs": [],
   "source": [
    "x = 10456781678916789678111111111111166666777777777777777777744444444444444444444444444 \n",
    "y = x #y is pointing to x\n",
    "print(\"BEFORE: x = \",x, \" y = \",y, type(x), type(y),id(x), id(y))\n",
    "print(\"AT THIS TIME x and y are not separate objects\")\n",
    "x = 5 #x will be changed to 5\n",
    "print(\"AFTER changing x = 5: x = \",x, \" y = \",y,type(x), type(y), id(x), id(y))\n",
    "print(\"Now x and y are separate objects\")"
   ]
  },
  {
   "cell_type": "markdown",
   "metadata": {},
   "source": [
    "# / and //operator"
   ]
  },
  {
   "cell_type": "code",
   "execution_count": null,
   "metadata": {},
   "outputs": [],
   "source": [
    "i = 7\n",
    "print(i/2)"
   ]
  },
  {
   "cell_type": "code",
   "execution_count": null,
   "metadata": {},
   "outputs": [],
   "source": [
    "i = 7\n",
    "print(i//2)"
   ]
  },
  {
   "cell_type": "code",
   "execution_count": null,
   "metadata": {},
   "outputs": [],
   "source": [
    "print(\"How to find the midpoint\")\n",
    "l = 0\n",
    "r = 7\n",
    "m = (l + r)/2 \n",
    "print(\"l =\",l ,\"r =\",r,  \" m =\",m)"
   ]
  },
  {
   "cell_type": "code",
   "execution_count": null,
   "metadata": {},
   "outputs": [],
   "source": [
    "print(\"How to find the midpoint\")\n",
    "l = 0\n",
    "r = 7\n",
    "m = (l + r)//2 \n",
    "print(\"l =\",l ,\"r =\",r,  \" m =\",m)"
   ]
  },
  {
   "cell_type": "code",
   "execution_count": null,
   "metadata": {},
   "outputs": [],
   "source": [
    "print(\"How to find the midpoint\")\n",
    "l = 0\n",
    "r = 7\n",
    "m = l + (r - l)//2\n",
    "print(\"l =\",l ,\"r =\",r,  \" m =\",m)"
   ]
  },
  {
   "cell_type": "markdown",
   "metadata": {},
   "source": [
    "# Type conversion\n",
    "# Conversion function in C++"
   ]
  },
  {
   "cell_type": "code",
   "execution_count": null,
   "metadata": {},
   "outputs": [],
   "source": [
    "k = 7889\n",
    "print(\"type of k\", type(k), \"Value of k =\", k)\n",
    "s = str(k)\n",
    "print(\"type of s\", type(s), \"Value of s =\", s)\n",
    "print(\"We have converted int 7889 to string '7889'\")\n",
    "k = int(s)\n",
    "print(\"type of k\", type(k), \"Value of k =\", k)\n",
    "print(\"Now we have converted string '7889' to int 7889\")\n",
    "print(\"k = int('45z') #This gives an error, because this cannot be converted to a valid integer\")"
   ]
  },
  {
   "cell_type": "markdown",
   "metadata": {},
   "source": [
    "# Control statement: if"
   ]
  },
  {
   "cell_type": "code",
   "execution_count": null,
   "metadata": {},
   "outputs": [],
   "source": [
    "x = 90\n",
    "if (x > 90):\n",
    "    print(\"your mark is = \", x, \".You are fantastic\")\n",
    "    print(\"your mark is = \", x, \".You are amazing\")\n",
    "print(\"You are great\")"
   ]
  },
  {
   "cell_type": "code",
   "execution_count": null,
   "metadata": {},
   "outputs": [],
   "source": [
    "x = 91\n",
    "if (x > 90):\n",
    "    print(\"your mark =\", x, end=\". \")\n",
    "    print(\"You are amazing\")\n",
    "print(\"You are great\")"
   ]
  },
  {
   "cell_type": "markdown",
   "metadata": {},
   "source": [
    "# Control statement: if else"
   ]
  },
  {
   "cell_type": "code",
   "execution_count": null,
   "metadata": {},
   "outputs": [],
   "source": [
    "print(\"In C if (x > 20) {  }\")\n",
    "print (\"In Python we use : instead of {\")\n",
    "print(\"In Python indentation is forced by language\")\n",
    "print(\"all code below : must have the same tab or space. Dont mix tab and space\")\n",
    "print()\n",
    "x = 900\n",
    "if (x > 90): \n",
    "    print(\"1\")\n",
    "    print(\"2\")\n",
    "    print(\"3\")\n",
    "    print(\"4\")\n",
    "else: \n",
    "    print(\"5\")\n",
    "    print(\"6\")\n",
    "    print(7)\n",
    "print(\"junk\")"
   ]
  },
  {
   "cell_type": "code",
   "execution_count": null,
   "metadata": {},
   "outputs": [],
   "source": [
    "print(\"In C if (x > 20) {  }\")\n",
    "print (\"In Python we use : instead of {\")\n",
    "print(\"In Python indentation is forced by language\")\n",
    "print(\"all code below : must have the same tab or space. Dont mix tab and space\")\n",
    "print()\n",
    "x = 9\n",
    "if (x > 90): \n",
    "    print(\"1\")\n",
    "    print(\"2\")\n",
    "    print(\"3\")\n",
    "    print(\"4\")\n",
    "else: \n",
    "    print(\"5\")\n",
    "    print(\"6\")\n",
    "    print(7)\n",
    "print(\"junk\")"
   ]
  },
  {
   "cell_type": "markdown",
   "metadata": {},
   "source": [
    "# Control statement: if elif"
   ]
  },
  {
   "cell_type": "code",
   "execution_count": null,
   "metadata": {},
   "outputs": [],
   "source": [
    "x = 5\n",
    "if (x > 90):\n",
    "    print(\"1\")\n",
    "    print(\"2\")\n",
    "    print(\"3\")\n",
    "    print(\"4\")\n",
    "elif (x > 85):\n",
    "    print(\"5\")\n",
    "    print(\"6\")\n",
    "    print('7')\n",
    "elif (x > 80):\n",
    "    print(\"8\")\n",
    "    print(\"9\")\n",
    "    print('10')\n",
    "else:\n",
    "    print(-420)\n",
    "print(\"ahah\")"
   ]
  },
  {
   "cell_type": "code",
   "execution_count": null,
   "metadata": {},
   "outputs": [],
   "source": [
    "x = 86\n",
    "if (x > 90):\n",
    "    print(\"1\")\n",
    "    print(\"2\")\n",
    "    print(\"3\")\n",
    "    print(\"4\")\n",
    "elif (x > 85):\n",
    "    print(\"5\")\n",
    "    print(\"6\")\n",
    "    print('7')\n",
    "elif (x > 80):\n",
    "    print(\"8\")\n",
    "    print(\"9\")\n",
    "    print('10')\n",
    "else:\n",
    "    print(-420)\n",
    "print(\"ahah\")"
   ]
  },
  {
   "cell_type": "code",
   "execution_count": null,
   "metadata": {},
   "outputs": [],
   "source": [
    "x = 81\n",
    "if (x > 90):\n",
    "    print(\"1\")\n",
    "    print(\"2\")\n",
    "    print(\"3\")\n",
    "    print(\"4\")\n",
    "elif (x > 85):\n",
    "    print(\"5\")\n",
    "    print(\"6\")\n",
    "    print('7')\n",
    "elif (x > 80):\n",
    "    print(\"8\")\n",
    "    print(\"9\")\n",
    "    print('10')\n",
    "else:\n",
    "    print(-420)\n",
    "print(\"ahah\")"
   ]
  },
  {
   "cell_type": "markdown",
   "metadata": {},
   "source": [
    "# Find the maximum of three numbers"
   ]
  },
  {
   "cell_type": "code",
   "execution_count": null,
   "metadata": {},
   "outputs": [],
   "source": [
    "def findmax(x:'int', y:'int', z:'int')->'int':\n",
    "    max = 0 \n",
    "    print(\"x =\",x, \"y =\" , y , \"z =\", z)\n",
    "    if (x > y): #x is bigger\n",
    "        if (x > z): # x is bigger\n",
    "            max = x\n",
    "        else:\n",
    "            max = z\n",
    "    else:\n",
    "        if (y > z): # y is bigger\n",
    "            max = y\n",
    "        else:\n",
    "            max = z\n",
    "    return max\n",
    "\n",
    "m = findmax(55,100,200)\n",
    "print(\"max m =\",m)\n",
    "m = findmax(100,100,100)\n",
    "print(\"max m =\",m)\n",
    "m = findmax(100,200,55)\n",
    "print(\"max m =\",m)\n",
    "m = findmax(100.89,200.90,55.00)\n",
    "print(\"max m =\",m)\n",
    "#m = findmax(\"cat\",26,\"lion\")\n",
    "#print(\"max m =\",m)"
   ]
  },
  {
   "cell_type": "markdown",
   "metadata": {},
   "source": [
    "### range (Start, Stop, Step)\n",
    "### range() takes three arguments.\n",
    "### Out of the three 2 arguments are optional. I.e., Start and Step are the optional arguments.That means Stop IS REQUIRED. Stops at Stop-1\n",
    "### So by default, it takes start = 0 and step = 1.\n",
    "### A start argument is a starting number of the sequence. i.e., lower limit. By default, it starts with 0 if not specified.\n",
    "### A stop argument is an upper limit. i.e.generate numbers up to this number, The range()  function doesn’t include this number in the result.\n",
    "### The step is a difference between each number in the result. The default value of the step is 1 if not specified."
   ]
  },
  {
   "cell_type": "code",
   "execution_count": null,
   "metadata": {},
   "outputs": [],
   "source": [
    "print('''ONLY ONE argument. That is STOP''')\n",
    "for i in range(10):\n",
    "    print(i,\" \", end='')\n",
    "print()"
   ]
  },
  {
   "cell_type": "code",
   "execution_count": null,
   "metadata": {},
   "outputs": [],
   "source": [
    "print('''TWO argument. That is  START and STOP''')\n",
    "for i in range(3,10):\n",
    "    print(i,\" \", end='')\n",
    "print()"
   ]
  },
  {
   "cell_type": "code",
   "execution_count": null,
   "metadata": {},
   "outputs": [],
   "source": [
    "print('''Three argument. That is  START STOP STEP''')\n",
    "for i in range(5,17,2):\n",
    "    print(i,\" \", end='')\n",
    "print()"
   ]
  },
  {
   "cell_type": "code",
   "execution_count": null,
   "metadata": {},
   "outputs": [],
   "source": [
    "print(\"range(17,5,-2) generates sequence starting 17, ending at less than 5, at a distance of -2\")\n",
    "for i in range(17,5,-2):\n",
    "    print(i,\" \", end='')\n",
    "print()"
   ]
  },
  {
   "cell_type": "code",
   "execution_count": null,
   "metadata": {},
   "outputs": [],
   "source": [
    "print(\"Example 1: range(17,5,2) generates empty sequence\")\n",
    "for i in range(17,5,2):\n",
    "    print(i,\" \", end='')"
   ]
  },
  {
   "cell_type": "code",
   "execution_count": null,
   "metadata": {},
   "outputs": [],
   "source": [
    "print(\"Example 2: range(5,17,-2) generates empty sequence\")\n",
    "for i in range(5,17,-2):\n",
    "    print(i,\" \", end='')"
   ]
  },
  {
   "cell_type": "code",
   "execution_count": null,
   "metadata": {},
   "outputs": [],
   "source": [
    "print(\"Example 3: range(5,17,16) generates sequence of one element \",end='')\n",
    "for i in range(5,17,16):\n",
    "    print(i)"
   ]
  },
  {
   "cell_type": "code",
   "execution_count": null,
   "metadata": {},
   "outputs": [],
   "source": [
    "print(\"Example 4: range(12,1,-3) stops at 3, because next one is 0 which is smaller than 1\")\n",
    "for i in range(12,1,-3):\n",
    "    print(i,\" \", end='')\n",
    "print()"
   ]
  },
  {
   "cell_type": "markdown",
   "metadata": {},
   "source": [
    "# Is Range and list are equal?"
   ]
  },
  {
   "cell_type": "code",
   "execution_count": null,
   "metadata": {},
   "outputs": [],
   "source": [
    "for i in [0,1,2,3,4,5]:\n",
    "    print(i,\" \", end='')\n",
    "print()\n",
    "for i in range(0,5):\n",
    "    print(i,\" \", end='')\n",
    "print()\n",
    "print(\"Is list == range ?. In python 3, NO but it is true in Python 2\")\n",
    "print(range(0,6) == [0,1,2,3,4,5])\n",
    "print(\"Can we convert range to a list?\")\n",
    "print(\"Yes. This is also called as type conversion\")\n",
    "l = list(range(0,5))\n",
    "print(\"type of l\", type(l), \"Value of l =\", l)\n",
    "l = l + [420]\n",
    "for i in l:\n",
    "    print(i,\" \", end='')\n",
    "print()"
   ]
  },
  {
   "cell_type": "markdown",
   "metadata": {},
   "source": [
    "# For and while"
   ]
  },
  {
   "cell_type": "code",
   "execution_count": null,
   "metadata": {},
   "outputs": [],
   "source": [
    "print(\"Using for\")\n",
    "for i in range(0,5):\n",
    "    print(i,end = ' ')\n",
    "print()"
   ]
  },
  {
   "cell_type": "code",
   "execution_count": null,
   "metadata": {},
   "outputs": [],
   "source": [
    "print(\"Using while\")\n",
    "i = 0 ;\n",
    "while (i < 5):\n",
    "    print(i,end = ' ')\n",
    "    i = i + 1\n",
    "print()"
   ]
  },
  {
   "cell_type": "code",
   "execution_count": null,
   "metadata": {},
   "outputs": [],
   "source": [
    "print(\"Using for in list\")\n",
    "list = [78,\"cat\", True, 7.89]\n",
    "for i in list:\n",
    "    print(i,end = ' ')\n",
    "print()\n",
    "print(\"Using while in list\")\n",
    "i = 0 ;\n",
    "while (i < len(list)):\n",
    "    print(list[i],end = ' ')\n",
    "    i = i + 1\n",
    "print()"
   ]
  },
  {
   "cell_type": "markdown",
   "metadata": {},
   "source": [
    "# When to use for"
   ]
  },
  {
   "cell_type": "code",
   "execution_count": null,
   "metadata": {},
   "outputs": [],
   "source": [
    "print(\"Use for when you know the range\")\n",
    "def factors(n):\n",
    "    num = 1\n",
    "    print(\"Factors of \",n, \" are: 1  \", end='')\n",
    "    m = n//2 + 1 #for 100, you need to test until 50 only\n",
    "    for i in range(2,m):\n",
    "        if (n % i == 0):\n",
    "            num = num + 1\n",
    "            print(i,\" \", end='')\n",
    "    print()\n",
    "    print(\"number of factors of \", n, \" = \", num)\n",
    "    \n",
    "factors(1000)\n",
    "factors(19867989)"
   ]
  },
  {
   "cell_type": "markdown",
   "metadata": {},
   "source": [
    "# When to use while"
   ]
  },
  {
   "cell_type": "code",
   "execution_count": null,
   "metadata": {},
   "outputs": [],
   "source": [
    "print(\"Use for when you know the range\")\n",
    "print(\"Use While when you don't know the range\")\n",
    "print(\"For example to find integer value of a square root\")\n",
    "def squareroot(n:int)->'int':\n",
    "    i = 2 ;\n",
    "    while (i * i <= n):\n",
    "        i = i + 1\n",
    "    return i-1 ;\n",
    "\n",
    "n = 100\n",
    "print(\"Integer square root of(\", n, \") = \", squareroot(n))\n",
    "n = 29\n",
    "print(\"Integer square root of(\", n, \") = \", squareroot(n))\n",
    "n = 1000\n",
    "print(\"Integer square root of(\", n, \") = \", squareroot(n))"
   ]
  },
  {
   "cell_type": "markdown",
   "metadata": {},
   "source": [
    "# Breaking out of while loop"
   ]
  },
  {
   "cell_type": "code",
   "execution_count": null,
   "metadata": {},
   "outputs": [],
   "source": [
    "p = 10 \n",
    "i = 0 \n",
    "broke = False #to remember whether if broke or not\n",
    "\n",
    "while (i < 10):\n",
    "    if (i == p):\n",
    "        broke = True\n",
    "        print(\"I am breaking at \", i)\n",
    "        break \n",
    "    i=i+1\n",
    "if (broke == False):\n",
    "    print(\"I did not break\", i)"
   ]
  },
  {
   "cell_type": "code",
   "execution_count": null,
   "metadata": {},
   "outputs": [],
   "source": [
    "p = 5\n",
    "i = 0 \n",
    "broke = False #to remember whether if broke or not\n",
    "\n",
    "while (i < 10):\n",
    "    if (i == p):\n",
    "        broke = True\n",
    "        print(\"I am breaking at \", i)\n",
    "        break \n",
    "    i=i+1\n",
    "if (broke == False):\n",
    "    print(\"I did not break\", i)"
   ]
  },
  {
   "cell_type": "markdown",
   "metadata": {},
   "source": [
    "# Breaking out of while loop - Python way"
   ]
  },
  {
   "cell_type": "code",
   "execution_count": null,
   "metadata": {},
   "outputs": [],
   "source": [
    "p = 10 \n",
    "for i in range(0,10):\n",
    "    if (i == p):\n",
    "        print(\"I am breaking at \", i)\n",
    "        break ;\n",
    "else:\n",
    "    print(\"This line is executed only when the break never happened. Nothing has to be remembered\")\n",
    "    print(\"I did not break\")"
   ]
  },
  {
   "cell_type": "code",
   "execution_count": null,
   "metadata": {},
   "outputs": [],
   "source": [
    "p = 5 \n",
    "for i in range(0,10):\n",
    "    if (i == p):\n",
    "        print(\"I am breaking at \", i)\n",
    "        break \n",
    "else:\n",
    "    print(\"This line is executed only when the break never happened. Nothing has to be remembered\")\n",
    "    print(\"I did not break\", i)"
   ]
  },
  {
   "cell_type": "markdown",
   "metadata": {},
   "source": [
    "# Will this Swap?"
   ]
  },
  {
   "cell_type": "code",
   "execution_count": 1,
   "metadata": {},
   "outputs": [
    {
     "name": "stdout",
     "output_type": "stream",
     "text": [
      "Before  Swap x =  100  y =  200\n",
      "In  Swap x =  100  y =  200\n",
      "Out Swap x =  200  y =  100\n",
      "After   Swap x =  100  y =  200\n"
     ]
    }
   ],
   "source": [
    "def swap(x:int,y:int)->'none':\n",
    "    print(\"In  Swap x = \", x, \" y = \", y)\n",
    "    t = x \n",
    "    x = y  \n",
    "    y = t ;\n",
    "    print(\"Out Swap x = \", x, \" y = \", y)\n",
    "    \n",
    "x = 100\n",
    "y = 200\n",
    "print(\"Before  Swap x = \", x, \" y = \", y)\n",
    "swap(x,y) \n",
    "print(\"After   Swap x = \", x, \" y = \", y)"
   ]
  },
  {
   "cell_type": "markdown",
   "metadata": {},
   "source": [
    "# Will this Swap? Dissected"
   ]
  },
  {
   "cell_type": "code",
   "execution_count": 2,
   "metadata": {},
   "outputs": [
    {
     "name": "stdout",
     "output_type": "stream",
     "text": [
      "type of x <class 'int'> Value of x = 100 id of x =  4498724496\n",
      "type of y <class 'int'> Value of y = 200 id of y =  4498727696\n",
      "Before  Swap x =  100  y =  200\n",
      "In  Swap x =  100  y =  200\n",
      "type of x <class 'int'> Value of x = 100 id of x =  4498724496\n",
      "type of y <class 'int'> Value of y = 200 id of y =  4498727696\n",
      "after t = x\n",
      "type of x <class 'int'> Value of x = 100 id of x =  4498724496\n",
      "type of t <class 'int'> Value of t = 100 id of t =  4498724496\n",
      "after x = y\n",
      "type of y <class 'int'> Value of y = 200 id of y =  4498727696\n",
      "type of x <class 'int'> Value of x = 200 id of x =  4498727696\n",
      "after y = t\n",
      "type of t <class 'int'> Value of t = 100 id of t =  4498724496\n",
      "type of y <class 'int'> Value of y = 200 id of y =  4498727696\n",
      "Out Swap x =  200  y =  100\n",
      "After   Swap x =  100  y =  200\n",
      "type of x <class 'int'> Value of x = 100 id of x =  4498724496\n",
      "type of y <class 'int'> Value of y = 200 id of y =  4498727696\n"
     ]
    }
   ],
   "source": [
    "show = True\n",
    "def swap(x:int,y:int)->'none':\n",
    "    print(\"In  Swap x = \", x, \" y = \", y)\n",
    "    if (show):\n",
    "        print(\"type of x\", type(x), \"Value of x =\", x,\"id of x = \", id(x))\n",
    "        print(\"type of y\", type(y), \"Value of y =\", y,\"id of y = \", id(y))\n",
    "    t = x \n",
    "    if (show):\n",
    "        print(\"after t = x\")\n",
    "        print(\"type of x\", type(x), \"Value of x =\", x,\"id of x = \", id(x))\n",
    "        print(\"type of t\", type(t), \"Value of t =\", t,\"id of t = \", id(t))\n",
    "    x = y\n",
    "    if (show):\n",
    "        print(\"after x = y\")\n",
    "        print(\"type of y\", type(y), \"Value of y =\", y,\"id of y = \", id(y))\n",
    "        print(\"type of x\", type(x), \"Value of x =\", x,\"id of x = \", id(x)) \n",
    "    y = t ;\n",
    "    if (show):\n",
    "        print(\"after y = t\")\n",
    "        print(\"type of t\", type(t), \"Value of t =\", t,\"id of t = \", id(t))\n",
    "        print(\"type of y\", type(y), \"Value of y =\", x,\"id of y = \", id(x))\n",
    "    print(\"Out Swap x = \", x, \" y = \", y)\n",
    "    \n",
    "x = 100\n",
    "y = 200\n",
    "if (show):\n",
    "    print(\"type of x\", type(x), \"Value of x =\", x,\"id of x = \", id(x))\n",
    "    print(\"type of y\", type(y), \"Value of y =\", y,\"id of y = \", id(y))\n",
    "print(\"Before  Swap x = \", x, \" y = \", y)\n",
    "swap(x,y) \n",
    "print(\"After   Swap x = \", x, \" y = \", y)\n",
    "if (show):\n",
    "    print(\"type of x\", type(x), \"Value of x =\", x,\"id of x = \", id(x))\n",
    "    print(\"type of y\", type(y), \"Value of y =\", y,\"id of y = \", id(y))"
   ]
  },
  {
   "cell_type": "markdown",
   "metadata": {},
   "source": [
    "# Function swap that swap using list "
   ]
  },
  {
   "cell_type": "code",
   "execution_count": 3,
   "metadata": {},
   "outputs": [
    {
     "name": "stdout",
     "output_type": "stream",
     "text": [
      "Before  Swap x =  100  y =  200\n",
      "In  Swap x =  100  y =  200\n",
      "Out Swap x =  200  y =  100\n",
      "After   Swap x =  200  y =  100\n"
     ]
    }
   ],
   "source": [
    "def swap(x:int,y:int)->'list':\n",
    "    print(\"In  Swap x = \", x, \" y = \", y)\n",
    "    t = x ;\n",
    "    x = y ;\n",
    "    y = t ;\n",
    "    print(\"Out Swap x = \", x, \" y = \", y)\n",
    "    return [x,y]\n",
    "    \n",
    "x = 100\n",
    "y = 200\n",
    "print(\"Before  Swap x = \", x, \" y = \", y)\n",
    "a = swap(x,y) \n",
    "x = a[0]\n",
    "y = a[1]\n",
    "print(\"After   Swap x = \", x, \" y = \", y)"
   ]
  },
  {
   "cell_type": "markdown",
   "metadata": {},
   "source": [
    "# Function swap that does swap using list"
   ]
  },
  {
   "cell_type": "code",
   "execution_count": 3,
   "metadata": {},
   "outputs": [
    {
     "name": "stdout",
     "output_type": "stream",
     "text": [
      "Before  Swap x =  100  y =  200\n",
      "In  Swap x =  100  y =  200\n",
      "after calling swap x =  100  y =  200\n",
      "After   Swap x =  200  y =  100\n"
     ]
    }
   ],
   "source": [
    "def swap(x:int,y:int)->'list':\n",
    "    print(\"In  Swap x = \", x, \" y = \", y)\n",
    "    return [y,x]\n",
    "    \n",
    "x = 100\n",
    "y = 200\n",
    "print(\"Before  Swap x = \", x, \" y = \", y)\n",
    "a = swap(x,y) \n",
    "print(\"after calling swap\" ,\"x = \", x, \" y = \", y)\n",
    "x = a[0]\n",
    "y = a[1]\n",
    "print(\"After   Swap x = \", x, \" y = \", y)"
   ]
  },
  {
   "cell_type": "markdown",
   "metadata": {},
   "source": [
    "# Function swap that does swap using list"
   ]
  },
  {
   "cell_type": "code",
   "execution_count": null,
   "metadata": {},
   "outputs": [],
   "source": [
    "x = 100\n",
    "y = 200\n",
    "print(\"Before  Swap x = \", x, \" y = \", y)\n",
    "x,y = y,x\n",
    "print(\"After   Swap x = \", x, \" y = \", y)"
   ]
  },
  {
   "cell_type": "markdown",
   "metadata": {},
   "source": [
    "# A list l is given. \n",
    "## The function f computes some other numbers in another list t\n",
    "## Contents of t will be written to l\n",
    "## Will this code works?"
   ]
  },
  {
   "cell_type": "code",
   "execution_count": null,
   "metadata": {},
   "outputs": [],
   "source": [
    "def f(l:'list')->'None':\n",
    "    print(\"In function f:\",l)\n",
    "    t = [4,5,6]\n",
    "    print(\"t = \",t)\n",
    "    l = t.copy()\n",
    "    print(\"Getting out function f:\",l)\n",
    "    \n",
    "l = [1,2,3]\n",
    "print(\"Before calling f:\",l)\n",
    "f(l)\n",
    "print(\"After calling f:\",l)"
   ]
  },
  {
   "cell_type": "markdown",
   "metadata": {},
   "source": [
    "# How do you Fix?  "
   ]
  },
  {
   "cell_type": "code",
   "execution_count": null,
   "metadata": {},
   "outputs": [],
   "source": [
    "def f(l:'list')->'None':\n",
    "    print(\"In function f:\",l)\n",
    "    t = [4,5,6]\n",
    "    print(\"t = \",t)\n",
    "    i = 0 \n",
    "    for e in t:\n",
    "        l[i] = e\n",
    "        i = i + 1\n",
    "    print(\"Getting out function f:\",l)\n",
    "    \n",
    "l = [1,2,3]\n",
    "print(\"Before calling f:\",l)\n",
    "f(l)\n",
    "print(\"After calling f:\",l)"
   ]
  },
  {
   "cell_type": "code",
   "execution_count": null,
   "metadata": {},
   "outputs": [],
   "source": []
  }
 ],
 "metadata": {
  "kernelspec": {
   "display_name": "Python 3",
   "language": "python",
   "name": "python3"
  },
  "language_info": {
   "codemirror_mode": {
    "name": "ipython",
    "version": 3
   },
   "file_extension": ".py",
   "mimetype": "text/x-python",
   "name": "python",
   "nbconvert_exporter": "python",
   "pygments_lexer": "ipython3",
   "version": "3.8.5"
  }
 },
 "nbformat": 4,
 "nbformat_minor": 4
}
