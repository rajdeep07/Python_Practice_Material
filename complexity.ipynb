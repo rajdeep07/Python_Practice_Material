{
 "cells": [
  {
   "cell_type": "markdown",
   "metadata": {},
   "source": [
    "# Complexity of algorithms\n",
    "# Copyright: Jagadeesh Vasudevamurthy\n",
    "# filename: complexity.ipynb"
   ]
  },
  {
   "cell_type": "code",
   "execution_count": 1,
   "metadata": {},
   "outputs": [],
   "source": [
    "import math\n",
    "import random "
   ]
  },
  {
   "cell_type": "code",
   "execution_count": 2,
   "metadata": {},
   "outputs": [
    {
     "name": "stdout",
     "output_type": "stream",
     "text": [
      "3.7.7 (default, May  6 2020, 11:45:54) [MSC v.1916 64 bit (AMD64)]\n",
      "   0   1   2   3   4   5   6   7   8   9\n",
      "   7   8   9  23 100\n"
     ]
    }
   ],
   "source": [
    "############################################################\n",
    "# Util.py\n",
    "# Author: Jagadeesh Vasudevamurthy\n",
    "# Copyright: Jagadeesh Vasudevamurthy 2020\n",
    "###########################################################\n",
    "\n",
    "############################################################\n",
    "# NOTHING CAN BE CHANGED IN THIS FILE\n",
    "###########################################################\n",
    "\n",
    "############################################################\n",
    "# All imports\n",
    "###########################################################\n",
    "import sys # For getting Python Version\n",
    "import random \n",
    "import math\n",
    "from time import process_time \n",
    "\n",
    "class Util():\n",
    "    pass\n",
    "\n",
    "  ############################################\n",
    "  # generate_random_number start to end INCLUDED \n",
    "  # start to end INCLUDED\n",
    "  #########################################\n",
    "    def generate_a_random_number(self,start:int,end:int)->'int':\n",
    "        v = random.randrange(start,end+1);\n",
    "        return v\n",
    "\n",
    "  ############################################\n",
    "  # generate_random_number GENERATES  N random numbers betweem \n",
    "  # start to end INCLUDED\n",
    "  # if onlypositive is False, generates both pos and negative number\n",
    "  #  randrange(beg, end, step) :- \n",
    "  #  beginning number (included in generation), \n",
    "  #  last number (excluded in generation) a\n",
    "  #  nd step ( to skip numbers in range while selecting).\n",
    "  #########################################\n",
    "    def generate_random_number(self, N:int, onlypositive:bool, start:int, end:int)->'List of integer':\n",
    "        a = []\n",
    "        for i in range(N):\n",
    "            v = self.generate_a_random_number(start,end);\n",
    "            if (onlypositive == False):\n",
    "                if ((i % 2) == 0): ##//Even. Half are positive, Half are negative\n",
    "                    v = -v ;\n",
    "            a.append(v)\n",
    "        return a\n",
    "\n",
    "  ############################################\n",
    "  # print_index(10)\n",
    "  #    0   1   2   3   4   5   6   7   8   9\n",
    "  #########################################\n",
    "    def print_index(self, n:int):\n",
    "        for i in range(n):\n",
    "            print(\"{:4d}\".format(i),end=\"\")\n",
    "        print()\n",
    "\n",
    "  ############################################\n",
    "  # a = [7,8,9, 23, 100]\n",
    "  # print_list(a)\n",
    "  # 7   8   9  23 100\n",
    "  #########################################\n",
    "    def print_list(self, a:'list'):\n",
    "        for i in range(len(a)):\n",
    "            print(\"{:4d}\".format(a[i]),end=\"\")\n",
    "        print()\n",
    "\n",
    "  ############################################\n",
    "  # a = [7,8,9, 1, 100]\n",
    "  # crash\n",
    "  #########################################\n",
    "    def assert_ascending_range(self, a:'list',start:int, includingend:int):\n",
    "        t = a[start]\n",
    "        for i in range(start+1,includingend):\n",
    "            if (a[i] < t):\n",
    "                assert(False)\n",
    "            t = a[i]\n",
    "\n",
    "  ############################################\n",
    "  # a = [7,8,9, 1, 100]\n",
    "  # crash\n",
    "  #########################################\n",
    "    def assert_ascending(self, a:'list'):\n",
    "        if (len(a)):\n",
    "            self.assert_ascending_range(a,0,len(a)) \n",
    "\n",
    "  ############################################\n",
    "  # log to the next possible integer\n",
    "  #########################################\n",
    "    def log_upper_bound(self, n:'int', b:'int')->'int':\n",
    "        f = math.log(n,b)\n",
    "        c = math.ceil(f)\n",
    "        return c \n",
    "\n",
    "  ############################################\n",
    "  # log to the smallest possible integer\n",
    "  #########################################\n",
    "    def log_lower_bound(self, n:'int', b:'int')->'int':\n",
    "        f = math.log(n,b)\n",
    "        c = math.floor(f)\n",
    "        return c \n",
    "\n",
    "  ############################################\n",
    "  # sqrt to the next possible integer\n",
    "  #########################################\n",
    "    def sqrt_upper_bound(self, n:'int')->'int':\n",
    "        f = math.sqrt(n)\n",
    "        c = math.ceil(f)\n",
    "        return c \n",
    "\n",
    "  ############################################\n",
    "  # sqrt to the smallest possible integer\n",
    "  #########################################\n",
    "    def sqrt_lower_bound(self, n:'int')->'int':\n",
    "        f = math.sqrt(n)\n",
    "        c = math.floor(f)\n",
    "        return c \n",
    "   \n",
    "  ############################################\n",
    "  # TEST DRIVERS BELOW\n",
    "  #########################################\n",
    "    def _test_random(self,N:int, onlypositive:bool, start:int, end:int)->'None':\n",
    "        a = self.generate_random_number(N,onlypositive,start,end);\n",
    "        assert(len(a) == N)\n",
    "    \n",
    "    def _test_bed(self):\n",
    "        self._test_random(10,True,30,100)\n",
    "        self._test_random(10,False,30,40)\n",
    "        self.print_index(10)\n",
    "        a = [7,8,9, 23, 100]\n",
    "        self.print_list(a)\n",
    "    \n",
    "############################################################\n",
    "# main \n",
    "###########################################################\n",
    "def main():\n",
    "\tprint(sys.version)\n",
    "\tt = Util()\n",
    "\tt._test_bed()\n",
    " \n",
    "  \n",
    "############################################################\n",
    "# start up\n",
    "###########################################################\n",
    "if (__name__  == '__main__'):\n",
    "    main()\n"
   ]
  },
  {
   "cell_type": "markdown",
   "metadata": {},
   "source": [
    "# Time: $\\Theta(1)$ Space: $\\Theta(1)$"
   ]
  },
  {
   "cell_type": "code",
   "execution_count": 3,
   "metadata": {},
   "outputs": [
    {
     "name": "stdout",
     "output_type": "stream",
     "text": [
      "n =  4 k =  449\n",
      "n =  1000 k =  449\n"
     ]
    }
   ],
   "source": [
    "def const(n:'int')->'int':\n",
    "    i = 45 + n ;\n",
    "    j = 100 * n;\n",
    "    k = i + j ;\n",
    "    return k\n",
    "    \n",
    "n = 4    \n",
    "k = const(4)\n",
    "print(\"n = \",n, \"k = \", k)\n",
    "\n",
    "n = 1000   \n",
    "k = const(4)\n",
    "print(\"n = \",n, \"k = \", k)\n"
   ]
  },
  {
   "cell_type": "markdown",
   "metadata": {},
   "source": [
    "# Time: $\\Theta(n)$ Space: $\\Theta(1)$"
   ]
  },
  {
   "cell_type": "code",
   "execution_count": 4,
   "metadata": {},
   "outputs": [],
   "source": [
    "def findmax(l:'list')->'int':\n",
    "    largest = l[0]\n",
    "    n = len(l)\n",
    "    for i in range(1,n):\n",
    "        if (l[i] > largest):\n",
    "            largest = l[i]\n",
    "    return largest "
   ]
  },
  {
   "cell_type": "markdown",
   "metadata": {},
   "source": [
    "# Testing unsorted list\n",
    "# Time: $\\Theta(n)$ Space: $\\Theta(1)$"
   ]
  },
  {
   "cell_type": "code",
   "execution_count": 10,
   "metadata": {},
   "outputs": [
    {
     "name": "stdout",
     "output_type": "stream",
     "text": [
      "[30, 57, 28, 75, 6, 5, 15, 35, 43, 32]\n",
      "75\n"
     ]
    }
   ],
   "source": [
    "n = 10\n",
    "s = 0\n",
    "e = 101\n",
    "u = Util()\n",
    "l = []\n",
    "for i in range(0,n):\n",
    "    v = u.generate_a_random_number(s,e)\n",
    "    l.append(v)\n",
    "print(l)\n",
    "m = findmax(l)\n",
    "print(m)\n"
   ]
  },
  {
   "cell_type": "markdown",
   "metadata": {},
   "source": [
    "# Time: $\\Theta(n^2)$ Space: $\\Theta(1)$"
   ]
  },
  {
   "cell_type": "code",
   "execution_count": 15,
   "metadata": {},
   "outputs": [],
   "source": [
    "def nsquare(n:'int'):\n",
    "    k = 1\n",
    "    print(\"k i j\")\n",
    "    for i in range(0,n):\n",
    "        for j in range(0,n):\n",
    "            print(k,i,j)\n",
    "            k = k + 1\n",
    "        "
   ]
  },
  {
   "cell_type": "code",
   "execution_count": 16,
   "metadata": {},
   "outputs": [
    {
     "name": "stdout",
     "output_type": "stream",
     "text": [
      "k i j\n",
      "1 0 0\n",
      "2 0 1\n",
      "3 0 2\n",
      "4 0 3\n",
      "5 1 0\n",
      "6 1 1\n",
      "7 1 2\n",
      "8 1 3\n",
      "9 2 0\n",
      "10 2 1\n",
      "11 2 2\n",
      "12 2 3\n",
      "13 3 0\n",
      "14 3 1\n",
      "15 3 2\n",
      "16 3 3\n"
     ]
    }
   ],
   "source": [
    "n = 4\n",
    "nsquare(n)"
   ]
  },
  {
   "cell_type": "markdown",
   "metadata": {},
   "source": [
    "# Guessing a number\n",
    "## Time: $\\mathcal{O}(log_{2} {n})$ Space: $\\Theta(1)$"
   ]
  },
  {
   "cell_type": "code",
   "execution_count": 17,
   "metadata": {},
   "outputs": [],
   "source": [
    "def guess(g:'int',l:'int',h:'int')->'list of pos, steps':\n",
    "    max = int(round(math.log((h - l),2)))\n",
    "    print(\"is \", g, \" there between \",l, \"and\",h, \" Both inclusive. Max steps should be\",max)\n",
    "    a = [-1,0]\n",
    "    while (l <= h):\n",
    "        a[1] = a[1] + 1;\n",
    "        m = (h - l)//2 + l ;\n",
    "        print(\"step = \", a[1], \"l = \", l, \"h = \", h, \"m = \",m)\n",
    "        if (g == m):\n",
    "            a[0] = m\n",
    "            assert(a[1] <= max)\n",
    "            return a\n",
    "        if (m < g):\n",
    "            l = m + 1\n",
    "        else:\n",
    "            h = m - 1\n",
    "    return a\n",
    "            \n",
    "def guesstop(n:'int',l:'int',h:'int'):\n",
    "    a = guess(n,l,h)\n",
    "    if (a[0] == -1):\n",
    "        print(n, \"is not there after doing \", a[1], \" steps of checking\")\n",
    "    else:\n",
    "        print(n, \"Found after doing \", a[1], \" steps of checking\")\n",
    "    "
   ]
  },
  {
   "cell_type": "code",
   "execution_count": 22,
   "metadata": {},
   "outputs": [
    {
     "name": "stdout",
     "output_type": "stream",
     "text": [
      "is  101  there between  1 and 100  Both inclusive. Max steps should be 7\n",
      "step =  1 l =  1 h =  100 m =  50\n",
      "step =  2 l =  51 h =  100 m =  75\n",
      "step =  3 l =  76 h =  100 m =  88\n",
      "step =  4 l =  89 h =  100 m =  94\n",
      "step =  5 l =  95 h =  100 m =  97\n",
      "step =  6 l =  98 h =  100 m =  99\n",
      "step =  7 l =  100 h =  100 m =  100\n",
      "101 is not there after doing  7  steps of checking\n"
     ]
    }
   ],
   "source": [
    "g = 101\n",
    "l = 1\n",
    "h = 100\n",
    "guesstop(g,l,h)"
   ]
  },
  {
   "cell_type": "code",
   "execution_count": 27,
   "metadata": {},
   "outputs": [
    {
     "name": "stdout",
     "output_type": "stream",
     "text": [
      "is  100  there between  1 and 100  Both inclusive. Max steps should be 7\n",
      "step =  1 l =  1 h =  100 m =  50\n",
      "step =  2 l =  51 h =  100 m =  75\n",
      "step =  3 l =  76 h =  100 m =  88\n",
      "step =  4 l =  89 h =  100 m =  94\n",
      "step =  5 l =  95 h =  100 m =  97\n",
      "step =  6 l =  98 h =  100 m =  99\n",
      "step =  7 l =  100 h =  100 m =  100\n",
      "100 Found after doing  7  steps of checking\n"
     ]
    }
   ],
   "source": [
    "g = 100\n",
    "l = 1\n",
    "h = 100\n",
    "guesstop(g,l,h)"
   ]
  },
  {
   "cell_type": "code",
   "execution_count": 28,
   "metadata": {},
   "outputs": [
    {
     "name": "stdout",
     "output_type": "stream",
     "text": [
      "is  101  there between  1 and 100  Both inclusive. Max steps should be 7\n",
      "step =  1 l =  1 h =  100 m =  50\n",
      "step =  2 l =  51 h =  100 m =  75\n",
      "step =  3 l =  76 h =  100 m =  88\n",
      "step =  4 l =  89 h =  100 m =  94\n",
      "step =  5 l =  95 h =  100 m =  97\n",
      "step =  6 l =  98 h =  100 m =  99\n",
      "step =  7 l =  100 h =  100 m =  100\n",
      "101 is not there after doing  7  steps of checking\n"
     ]
    }
   ],
   "source": [
    "g = 101\n",
    "l = 1\n",
    "h = 100\n",
    "guesstop(g,l,h)"
   ]
  },
  {
   "cell_type": "code",
   "execution_count": 29,
   "metadata": {},
   "outputs": [
    {
     "name": "stdout",
     "output_type": "stream",
     "text": [
      "is  0  there between  1 and 100  Both inclusive. Max steps should be 7\n",
      "step =  1 l =  1 h =  100 m =  50\n",
      "step =  2 l =  1 h =  49 m =  25\n",
      "step =  3 l =  1 h =  24 m =  12\n",
      "step =  4 l =  1 h =  11 m =  6\n",
      "step =  5 l =  1 h =  5 m =  3\n",
      "step =  6 l =  1 h =  2 m =  1\n",
      "0 is not there after doing  6  steps of checking\n"
     ]
    }
   ],
   "source": [
    "g = 0\n",
    "l = 1\n",
    "h = 100\n",
    "guesstop(g,l,h)"
   ]
  },
  {
   "cell_type": "code",
   "execution_count": 30,
   "metadata": {},
   "outputs": [],
   "source": [
    "def nsquare2(n:'int'):\n",
    "    k = 1\n",
    "    print(\"k i j\")\n",
    "    for i in range(0,n):\n",
    "        for j in range(i,n):\n",
    "            print(k,i,j)\n",
    "            k = k + 1\n",
    "        "
   ]
  },
  {
   "cell_type": "code",
   "execution_count": null,
   "metadata": {},
   "outputs": [],
   "source": [
    "n = 3\n",
    "nsquare2(n)"
   ]
  },
  {
   "cell_type": "markdown",
   "metadata": {},
   "source": [
    "## LOCKDOWN puzzle"
   ]
  },
  {
   "cell_type": "code",
   "execution_count": 24,
   "metadata": {},
   "outputs": [
    {
     "data": {
      "text/html": [
       "\n",
       "        <iframe\n",
       "            width=\"800\"\n",
       "            height=\"600\"\n",
       "            src=\"puzzle\\puzzle1.pdf\"\n",
       "            frameborder=\"0\"\n",
       "            allowfullscreen\n",
       "        ></iframe>\n",
       "        "
      ],
      "text/plain": [
       "<IPython.lib.display.IFrame at 0x1addb644d48>"
      ]
     },
     "metadata": {},
     "output_type": "display_data"
    }
   ],
   "source": [
    "import os\n",
    "path = \"C:\\\\Users\\\\jag\\\\OneDrive\\\\vasu\\\\work\\\\py3\\\\objects\\\\complexity\\\\puzzle\\\\puzzle1.pdf\"\n",
    "rpath = os.path.relpath(path)\n",
    "from IPython.display import IFrame\n",
    "display(IFrame(rpath, width=800, height=600))"
   ]
  },
  {
   "cell_type": "code",
   "execution_count": 25,
   "metadata": {},
   "outputs": [],
   "source": [
    "def alldistict(a):\n",
    "    a.sort()\n",
    "    x = 0 ;\n",
    "    for e in a:\n",
    "        if (e == x):\n",
    "            return False\n",
    "        x = e\n",
    "    return True\n",
    "def puzzle1():\n",
    "    s = 1\n",
    "    e = 10\n",
    "    for a1 in range(s,e):\n",
    "        for a2 in range(s,e):\n",
    "            a2a1 = 10*a2 + a1\n",
    "            for a3 in range(s,e):\n",
    "                a2a1xa3 = a2a1 * a3 ;\n",
    "                if (a2a1xa3 >= 12 and a2a1xa3 < 100):\n",
    "                    a4 = a2a1xa3 //10\n",
    "                    a5 = a2a1xa3 % 10\n",
    "                    for a6 in range(s,e):\n",
    "                            for a7 in range(s,e):\n",
    "                                a7a6 = 10*a7 + a6\n",
    "                                a2a1xa3plusa7a6 = a2a1xa3 + a7a6\n",
    "                                for a8 in range(s,e):\n",
    "                                    for a9 in range(s,e):\n",
    "                                        a9a8 = 10*a9 + a8\n",
    "                                    if (a9a8 == a2a1xa3plusa7a6):\n",
    "                                        a = [a1,a2,a3,a4,a5,a6,a7,a8,a9]\n",
    "                                        if (alldistict(a)):\n",
    "                                            print(a2,a1,\"*\",a3)\n",
    "                                            print(a4,a5)\n",
    "                                            print(a7,a6)\n",
    "                                            print(a9,a8)\n",
    "                                            print(a2,a1,a3,a4,a5,a7,a6,a9,a8,\" = \",a9a8)\n",
    "    print(\"DONE\")\n",
    "    "
   ]
  },
  {
   "cell_type": "code",
   "execution_count": 35,
   "metadata": {},
   "outputs": [
    {
     "name": "stdout",
     "output_type": "stream",
     "text": [
      "1 7 * 4\n",
      "6 8\n",
      "2 5\n",
      "9 3\n",
      "1 7 4 6 8 2 5 9 3  =  93\n",
      "DONE\n"
     ]
    }
   ],
   "source": [
    "puzzle1()"
   ]
  },
  {
   "cell_type": "markdown",
   "metadata": {},
   "source": [
    "# Now Solve Prime"
   ]
  },
  {
   "cell_type": "code",
   "execution_count": null,
   "metadata": {},
   "outputs": [],
   "source": []
  }
 ],
 "metadata": {
  "kernelspec": {
   "display_name": "Python 3",
   "language": "python",
   "name": "python3"
  },
  "language_info": {
   "codemirror_mode": {
    "name": "ipython",
    "version": 3
   },
   "file_extension": ".py",
   "mimetype": "text/x-python",
   "name": "python",
   "nbconvert_exporter": "python",
   "pygments_lexer": "ipython3",
   "version": "3.8.5"
  }
 },
 "nbformat": 4,
 "nbformat_minor": 4
}
